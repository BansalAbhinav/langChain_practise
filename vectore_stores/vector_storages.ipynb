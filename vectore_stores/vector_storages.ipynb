{
 "cells": [
  {
   "cell_type": "code",
   "execution_count": 1,
   "id": "c7184881",
   "metadata": {},
   "outputs": [
    {
     "data": {
      "text/plain": [
       "True"
      ]
     },
     "execution_count": 1,
     "metadata": {},
     "output_type": "execute_result"
    }
   ],
   "source": [
    "from langchain_huggingface import ChatHuggingFace , HuggingFaceEndpoint , HuggingFaceEmbeddings\n",
    "from dotenv import load_dotenv\n",
    "from langchain_chroma import Chroma\n",
    "from langchain.schema import Document\n",
    "load_dotenv()\n"
   ]
  },
  {
   "cell_type": "code",
   "execution_count": 2,
   "id": "37a99ddd",
   "metadata": {},
   "outputs": [],
   "source": [
    "\n",
    "# Create LangChain documents for IPL players\n",
    "\n",
    "doc1 = Document(\n",
    "        page_content=\"Virat Kohli is one of the most successful and consistent batsmen in IPL history. Known for his aggressive batting style and fitness, he has led the Royal Challengers Bangalore in multiple seasons.\",\n",
    "        metadata={\"team\": \"Royal Challengers Bangalore\"}\n",
    "    )\n",
    "doc2 = Document(\n",
    "        page_content=\"Rohit Sharma is the most successful captain in IPL history, leading Mumbai Indians to five titles. He's known for his calm demeanor and ability to play big innings under pressure.\",\n",
    "        metadata={\"team\": \"Mumbai Indians\"}\n",
    "    )\n",
    "doc3 = Document(\n",
    "        page_content=\"MS Dhoni, famously known as Captain Cool, has led Chennai Super Kings to multiple IPL titles. His finishing skills, wicketkeeping, and leadership are legendary.\",\n",
    "        metadata={\"team\": \"Chennai Super Kings\"}\n",
    "    )\n",
    "doc4 = Document(\n",
    "        page_content=\"Jasprit Bumrah is considered one of the best fast bowlers in T20 cricket. Playing for Mumbai Indians, he is known for his yorkers and death-over expertise.\",\n",
    "        metadata={\"team\": \"Mumbai Indians\"}\n",
    "    )\n",
    "doc5 = Document(\n",
    "        page_content=\"Ravindra Jadeja is a dynamic all-rounder who contributes with both bat and ball. Representing Chennai Super Kings, his quick fielding and match-winning performances make him a key player.\",\n",
    "        metadata={\"team\": \"Chennai Super Kings\"}\n",
    "    )\n",
    "docs = [doc1, doc2, doc3, doc4, doc5]"
   ]
  },
  {
   "cell_type": "code",
   "execution_count": 3,
   "id": "2519262c",
   "metadata": {},
   "outputs": [
    {
     "name": "stderr",
     "output_type": "stream",
     "text": [
      "d:\\Coding\\langchain_Models\\venv\\Lib\\site-packages\\tqdm\\auto.py:21: TqdmWarning: IProgress not found. Please update jupyter and ipywidgets. See https://ipywidgets.readthedocs.io/en/stable/user_install.html\n",
      "  from .autonotebook import tqdm as notebook_tqdm\n"
     ]
    }
   ],
   "source": [
    "vector_store = Chroma(\n",
    "    embedding_function=HuggingFaceEmbeddings(),\n",
    "    persist_directory='my_chroma_db',\n",
    "    collection_name='sample'\n",
    ")\n"
   ]
  },
  {
   "cell_type": "code",
   "execution_count": 5,
   "id": "19b4807f",
   "metadata": {},
   "outputs": [
    {
     "data": {
      "text/plain": [
       "['69c68d9b-a689-43d1-aaee-7d2a0dec8570',\n",
       " 'f4057aa3-8207-4774-9109-f16770f6ab3a',\n",
       " '5be90efe-822a-4002-8040-72f5ad8fd573',\n",
       " 'c2161de1-a1f6-4f2a-aa82-237ba879e6e0',\n",
       " '9939391a-7e22-4bcb-b674-f1d17c640cef']"
      ]
     },
     "execution_count": 5,
     "metadata": {},
     "output_type": "execute_result"
    }
   ],
   "source": [
    "# add documents\n",
    "vector_store.add_documents(docs)"
   ]
  },
  {
   "cell_type": "code",
   "execution_count": 6,
   "id": "aae9906e",
   "metadata": {},
   "outputs": [
    {
     "data": {
      "text/plain": [
       "{'ids': ['0d72354f-904f-48ba-b430-fdfd7d71cf68',\n",
       "  'fbf5f7e7-e40e-4f6f-af72-f6e63cc77a6d',\n",
       "  '860b7cae-3dc0-4635-8792-2573a3065c3f',\n",
       "  '918ec277-9916-4b3c-92c6-e36f313776af',\n",
       "  '853b0b6c-306a-43e7-8224-27236267f118',\n",
       "  '69c68d9b-a689-43d1-aaee-7d2a0dec8570',\n",
       "  'f4057aa3-8207-4774-9109-f16770f6ab3a',\n",
       "  '5be90efe-822a-4002-8040-72f5ad8fd573',\n",
       "  'c2161de1-a1f6-4f2a-aa82-237ba879e6e0',\n",
       "  '9939391a-7e22-4bcb-b674-f1d17c640cef'],\n",
       " 'embeddings': array([[-0.0396476 , -0.00801647, -0.01412725, ...,  0.06814167,\n",
       "         -0.00116095, -0.02425426],\n",
       "        [-0.01992596,  0.00161874, -0.00959343, ...,  0.02433112,\n",
       "         -0.00341397, -0.01722029],\n",
       "        [-0.04256181,  0.01060332, -0.01305768, ...,  0.04738371,\n",
       "         -0.01748697,  0.00204663],\n",
       "        ...,\n",
       "        [-0.04256181,  0.01060332, -0.01305768, ...,  0.04738371,\n",
       "         -0.01748697,  0.00204663],\n",
       "        [-0.02734398, -0.03300871,  0.01565379, ...,  0.01462704,\n",
       "          0.0117798 ,  0.00556421],\n",
       "        [ 0.02301687, -0.02011725, -0.00123582, ...,  0.02533474,\n",
       "          0.00280528, -0.05120278]], shape=(10, 768)),\n",
       " 'documents': ['Virat Kohli is one of the most successful and consistent batsmen in IPL history. Known for his aggressive batting style and fitness, he has led the Royal Challengers Bangalore in multiple seasons.',\n",
       "  \"Rohit Sharma is the most successful captain in IPL history, leading Mumbai Indians to five titles. He's known for his calm demeanor and ability to play big innings under pressure.\",\n",
       "  'MS Dhoni, famously known as Captain Cool, has led Chennai Super Kings to multiple IPL titles. His finishing skills, wicketkeeping, and leadership are legendary.',\n",
       "  'Jasprit Bumrah is considered one of the best fast bowlers in T20 cricket. Playing for Mumbai Indians, he is known for his yorkers and death-over expertise.',\n",
       "  'Ravindra Jadeja is a dynamic all-rounder who contributes with both bat and ball. Representing Chennai Super Kings, his quick fielding and match-winning performances make him a key player.',\n",
       "  'Virat Kohli is one of the most successful and consistent batsmen in IPL history. Known for his aggressive batting style and fitness, he has led the Royal Challengers Bangalore in multiple seasons.',\n",
       "  \"Rohit Sharma is the most successful captain in IPL history, leading Mumbai Indians to five titles. He's known for his calm demeanor and ability to play big innings under pressure.\",\n",
       "  'MS Dhoni, famously known as Captain Cool, has led Chennai Super Kings to multiple IPL titles. His finishing skills, wicketkeeping, and leadership are legendary.',\n",
       "  'Jasprit Bumrah is considered one of the best fast bowlers in T20 cricket. Playing for Mumbai Indians, he is known for his yorkers and death-over expertise.',\n",
       "  'Ravindra Jadeja is a dynamic all-rounder who contributes with both bat and ball. Representing Chennai Super Kings, his quick fielding and match-winning performances make him a key player.'],\n",
       " 'uris': None,\n",
       " 'included': ['embeddings', 'documents', 'metadatas'],\n",
       " 'data': None,\n",
       " 'metadatas': [{'team': 'Royal Challengers Bangalore'},\n",
       "  {'team': 'Mumbai Indians'},\n",
       "  {'team': 'Chennai Super Kings'},\n",
       "  {'team': 'Mumbai Indians'},\n",
       "  {'team': 'Chennai Super Kings'},\n",
       "  {'team': 'Royal Challengers Bangalore'},\n",
       "  {'team': 'Mumbai Indians'},\n",
       "  {'team': 'Chennai Super Kings'},\n",
       "  {'team': 'Mumbai Indians'},\n",
       "  {'team': 'Chennai Super Kings'}]}"
      ]
     },
     "execution_count": 6,
     "metadata": {},
     "output_type": "execute_result"
    }
   ],
   "source": [
    "# view documents\n",
    "vector_store.get(include=['embeddings','documents', 'metadatas'])"
   ]
  },
  {
   "cell_type": "code",
   "execution_count": 11,
   "id": "08f7057a",
   "metadata": {},
   "outputs": [
    {
     "data": {
      "text/plain": [
       "[Document(id='9939391a-7e22-4bcb-b674-f1d17c640cef', metadata={'team': 'Chennai Super Kings'}, page_content='Ravindra Jadeja is a dynamic all-rounder who contributes with both bat and ball. Representing Chennai Super Kings, his quick fielding and match-winning performances make him a key player.')]"
      ]
     },
     "execution_count": 11,
     "metadata": {},
     "output_type": "execute_result"
    }
   ],
   "source": [
    "\n",
    "# search documents\n",
    "vector_store.similarity_search(\n",
    "    query='Who among these are a bowler?',\n",
    "    k=1  # top result lower the number jada clsoe result dega\n",
    ")"
   ]
  },
  {
   "cell_type": "code",
   "execution_count": 12,
   "id": "905f0e6e",
   "metadata": {},
   "outputs": [
    {
     "data": {
      "text/plain": [
       "[(Document(id='853b0b6c-306a-43e7-8224-27236267f118', metadata={'team': 'Chennai Super Kings'}, page_content='Ravindra Jadeja is a dynamic all-rounder who contributes with both bat and ball. Representing Chennai Super Kings, his quick fielding and match-winning performances make him a key player.'),\n",
       "  1.2036770582199097),\n",
       " (Document(id='9939391a-7e22-4bcb-b674-f1d17c640cef', metadata={'team': 'Chennai Super Kings'}, page_content='Ravindra Jadeja is a dynamic all-rounder who contributes with both bat and ball. Representing Chennai Super Kings, his quick fielding and match-winning performances make him a key player.'),\n",
       "  1.2036770582199097)]"
      ]
     },
     "execution_count": 12,
     "metadata": {},
     "output_type": "execute_result"
    }
   ],
   "source": [
    "\n",
    "# search with similarity score\n",
    "vector_store.similarity_search_with_score(\n",
    "    query='Who among these are a bowler?',\n",
    "    k=2\n",
    ")"
   ]
  },
  {
   "cell_type": "code",
   "execution_count": 15,
   "id": "1568e372",
   "metadata": {},
   "outputs": [
    {
     "data": {
      "text/plain": [
       "[(Document(id='860b7cae-3dc0-4635-8792-2573a3065c3f', metadata={'team': 'Chennai Super Kings'}, page_content='MS Dhoni, famously known as Captain Cool, has led Chennai Super Kings to multiple IPL titles. His finishing skills, wicketkeeping, and leadership are legendary.'),\n",
       "  1.8879570960998535),\n",
       " (Document(id='5be90efe-822a-4002-8040-72f5ad8fd573', metadata={'team': 'Chennai Super Kings'}, page_content='MS Dhoni, famously known as Captain Cool, has led Chennai Super Kings to multiple IPL titles. His finishing skills, wicketkeeping, and leadership are legendary.'),\n",
       "  1.8879570960998535),\n",
       " (Document(id='853b0b6c-306a-43e7-8224-27236267f118', metadata={'team': 'Chennai Super Kings'}, page_content='Ravindra Jadeja is a dynamic all-rounder who contributes with both bat and ball. Representing Chennai Super Kings, his quick fielding and match-winning performances make him a key player.'),\n",
       "  2.0017192363739014),\n",
       " (Document(id='9939391a-7e22-4bcb-b674-f1d17c640cef', metadata={'team': 'Chennai Super Kings'}, page_content='Ravindra Jadeja is a dynamic all-rounder who contributes with both bat and ball. Representing Chennai Super Kings, his quick fielding and match-winning performances make him a key player.'),\n",
       "  2.0017192363739014)]"
      ]
     },
     "execution_count": 15,
     "metadata": {},
     "output_type": "execute_result"
    }
   ],
   "source": [
    "\n",
    "# meta-data filtering\n",
    "vector_store.similarity_search_with_score(\n",
    "    query=\"\",\n",
    "    filter={\"team\": \"Chennai Super Kings\"}\n",
    ")"
   ]
  },
  {
   "cell_type": "code",
   "execution_count": 16,
   "id": "48d16354",
   "metadata": {},
   "outputs": [],
   "source": [
    "# update documents\n",
    "updated_doc1 = Document(\n",
    "    page_content=\"Virat Kohli, the former captain of Royal Challengers Bangalore (RCB), is renowned for his aggressive leadership and consistent batting performances. He holds the record for the most runs in IPL history, including multiple centuries in a single season. Despite RCB not winning an IPL title under his captaincy, Kohli's passion and fitness set a benchmark for the league. His ability to chase targets and anchor innings has made him one of the most dependable players in T20 cricket.\",\n",
    "    metadata={\"team\": \"Royal Challengers Bangalore\"}\n",
    ")\n",
    "\n",
    "vector_store.update_document(document_id='09a39dc6-3ba6-4ea7-927e-fdda591da5e4', document=updated_doc1)\n"
   ]
  },
  {
   "cell_type": "code",
   "execution_count": 17,
   "id": "726a7bfc",
   "metadata": {},
   "outputs": [
    {
     "data": {
      "text/plain": [
       "{'ids': ['0d72354f-904f-48ba-b430-fdfd7d71cf68',\n",
       "  'fbf5f7e7-e40e-4f6f-af72-f6e63cc77a6d',\n",
       "  '860b7cae-3dc0-4635-8792-2573a3065c3f',\n",
       "  '918ec277-9916-4b3c-92c6-e36f313776af',\n",
       "  '853b0b6c-306a-43e7-8224-27236267f118',\n",
       "  '69c68d9b-a689-43d1-aaee-7d2a0dec8570',\n",
       "  'f4057aa3-8207-4774-9109-f16770f6ab3a',\n",
       "  '5be90efe-822a-4002-8040-72f5ad8fd573',\n",
       "  'c2161de1-a1f6-4f2a-aa82-237ba879e6e0',\n",
       "  '9939391a-7e22-4bcb-b674-f1d17c640cef'],\n",
       " 'embeddings': array([[-0.0396476 , -0.00801647, -0.01412725, ...,  0.06814167,\n",
       "         -0.00116095, -0.02425426],\n",
       "        [-0.01992596,  0.00161874, -0.00959343, ...,  0.02433112,\n",
       "         -0.00341397, -0.01722029],\n",
       "        [-0.04256181,  0.01060332, -0.01305768, ...,  0.04738371,\n",
       "         -0.01748697,  0.00204663],\n",
       "        ...,\n",
       "        [-0.04256181,  0.01060332, -0.01305768, ...,  0.04738371,\n",
       "         -0.01748697,  0.00204663],\n",
       "        [-0.02734398, -0.03300871,  0.01565379, ...,  0.01462704,\n",
       "          0.0117798 ,  0.00556421],\n",
       "        [ 0.02301687, -0.02011725, -0.00123582, ...,  0.02533474,\n",
       "          0.00280528, -0.05120278]], shape=(10, 768)),\n",
       " 'documents': ['Virat Kohli is one of the most successful and consistent batsmen in IPL history. Known for his aggressive batting style and fitness, he has led the Royal Challengers Bangalore in multiple seasons.',\n",
       "  \"Rohit Sharma is the most successful captain in IPL history, leading Mumbai Indians to five titles. He's known for his calm demeanor and ability to play big innings under pressure.\",\n",
       "  'MS Dhoni, famously known as Captain Cool, has led Chennai Super Kings to multiple IPL titles. His finishing skills, wicketkeeping, and leadership are legendary.',\n",
       "  'Jasprit Bumrah is considered one of the best fast bowlers in T20 cricket. Playing for Mumbai Indians, he is known for his yorkers and death-over expertise.',\n",
       "  'Ravindra Jadeja is a dynamic all-rounder who contributes with both bat and ball. Representing Chennai Super Kings, his quick fielding and match-winning performances make him a key player.',\n",
       "  'Virat Kohli is one of the most successful and consistent batsmen in IPL history. Known for his aggressive batting style and fitness, he has led the Royal Challengers Bangalore in multiple seasons.',\n",
       "  \"Rohit Sharma is the most successful captain in IPL history, leading Mumbai Indians to five titles. He's known for his calm demeanor and ability to play big innings under pressure.\",\n",
       "  'MS Dhoni, famously known as Captain Cool, has led Chennai Super Kings to multiple IPL titles. His finishing skills, wicketkeeping, and leadership are legendary.',\n",
       "  'Jasprit Bumrah is considered one of the best fast bowlers in T20 cricket. Playing for Mumbai Indians, he is known for his yorkers and death-over expertise.',\n",
       "  'Ravindra Jadeja is a dynamic all-rounder who contributes with both bat and ball. Representing Chennai Super Kings, his quick fielding and match-winning performances make him a key player.'],\n",
       " 'uris': None,\n",
       " 'included': ['embeddings', 'documents', 'metadatas'],\n",
       " 'data': None,\n",
       " 'metadatas': [{'team': 'Royal Challengers Bangalore'},\n",
       "  {'team': 'Mumbai Indians'},\n",
       "  {'team': 'Chennai Super Kings'},\n",
       "  {'team': 'Mumbai Indians'},\n",
       "  {'team': 'Chennai Super Kings'},\n",
       "  {'team': 'Royal Challengers Bangalore'},\n",
       "  {'team': 'Mumbai Indians'},\n",
       "  {'team': 'Chennai Super Kings'},\n",
       "  {'team': 'Mumbai Indians'},\n",
       "  {'team': 'Chennai Super Kings'}]}"
      ]
     },
     "execution_count": 17,
     "metadata": {},
     "output_type": "execute_result"
    }
   ],
   "source": [
    "# view documents\n",
    "vector_store.get(include=['embeddings','documents', 'metadatas'])"
   ]
  },
  {
   "cell_type": "code",
   "execution_count": 18,
   "id": "a0067657",
   "metadata": {},
   "outputs": [],
   "source": [
    "# delete document\n",
    "vector_store.delete(ids=['09a39dc6-3ba6-4ea7-927e-fdda591da5e4'])"
   ]
  },
  {
   "cell_type": "code",
   "execution_count": 19,
   "id": "cfe80603",
   "metadata": {},
   "outputs": [
    {
     "data": {
      "text/plain": [
       "{'ids': ['0d72354f-904f-48ba-b430-fdfd7d71cf68',\n",
       "  'fbf5f7e7-e40e-4f6f-af72-f6e63cc77a6d',\n",
       "  '860b7cae-3dc0-4635-8792-2573a3065c3f',\n",
       "  '918ec277-9916-4b3c-92c6-e36f313776af',\n",
       "  '853b0b6c-306a-43e7-8224-27236267f118',\n",
       "  '69c68d9b-a689-43d1-aaee-7d2a0dec8570',\n",
       "  'f4057aa3-8207-4774-9109-f16770f6ab3a',\n",
       "  '5be90efe-822a-4002-8040-72f5ad8fd573',\n",
       "  'c2161de1-a1f6-4f2a-aa82-237ba879e6e0',\n",
       "  '9939391a-7e22-4bcb-b674-f1d17c640cef'],\n",
       " 'embeddings': array([[-0.0396476 , -0.00801647, -0.01412725, ...,  0.06814167,\n",
       "         -0.00116095, -0.02425426],\n",
       "        [-0.01992596,  0.00161874, -0.00959343, ...,  0.02433112,\n",
       "         -0.00341397, -0.01722029],\n",
       "        [-0.04256181,  0.01060332, -0.01305768, ...,  0.04738371,\n",
       "         -0.01748697,  0.00204663],\n",
       "        ...,\n",
       "        [-0.04256181,  0.01060332, -0.01305768, ...,  0.04738371,\n",
       "         -0.01748697,  0.00204663],\n",
       "        [-0.02734398, -0.03300871,  0.01565379, ...,  0.01462704,\n",
       "          0.0117798 ,  0.00556421],\n",
       "        [ 0.02301687, -0.02011725, -0.00123582, ...,  0.02533474,\n",
       "          0.00280528, -0.05120278]], shape=(10, 768)),\n",
       " 'documents': ['Virat Kohli is one of the most successful and consistent batsmen in IPL history. Known for his aggressive batting style and fitness, he has led the Royal Challengers Bangalore in multiple seasons.',\n",
       "  \"Rohit Sharma is the most successful captain in IPL history, leading Mumbai Indians to five titles. He's known for his calm demeanor and ability to play big innings under pressure.\",\n",
       "  'MS Dhoni, famously known as Captain Cool, has led Chennai Super Kings to multiple IPL titles. His finishing skills, wicketkeeping, and leadership are legendary.',\n",
       "  'Jasprit Bumrah is considered one of the best fast bowlers in T20 cricket. Playing for Mumbai Indians, he is known for his yorkers and death-over expertise.',\n",
       "  'Ravindra Jadeja is a dynamic all-rounder who contributes with both bat and ball. Representing Chennai Super Kings, his quick fielding and match-winning performances make him a key player.',\n",
       "  'Virat Kohli is one of the most successful and consistent batsmen in IPL history. Known for his aggressive batting style and fitness, he has led the Royal Challengers Bangalore in multiple seasons.',\n",
       "  \"Rohit Sharma is the most successful captain in IPL history, leading Mumbai Indians to five titles. He's known for his calm demeanor and ability to play big innings under pressure.\",\n",
       "  'MS Dhoni, famously known as Captain Cool, has led Chennai Super Kings to multiple IPL titles. His finishing skills, wicketkeeping, and leadership are legendary.',\n",
       "  'Jasprit Bumrah is considered one of the best fast bowlers in T20 cricket. Playing for Mumbai Indians, he is known for his yorkers and death-over expertise.',\n",
       "  'Ravindra Jadeja is a dynamic all-rounder who contributes with both bat and ball. Representing Chennai Super Kings, his quick fielding and match-winning performances make him a key player.'],\n",
       " 'uris': None,\n",
       " 'included': ['embeddings', 'documents', 'metadatas'],\n",
       " 'data': None,\n",
       " 'metadatas': [{'team': 'Royal Challengers Bangalore'},\n",
       "  {'team': 'Mumbai Indians'},\n",
       "  {'team': 'Chennai Super Kings'},\n",
       "  {'team': 'Mumbai Indians'},\n",
       "  {'team': 'Chennai Super Kings'},\n",
       "  {'team': 'Royal Challengers Bangalore'},\n",
       "  {'team': 'Mumbai Indians'},\n",
       "  {'team': 'Chennai Super Kings'},\n",
       "  {'team': 'Mumbai Indians'},\n",
       "  {'team': 'Chennai Super Kings'}]}"
      ]
     },
     "execution_count": 19,
     "metadata": {},
     "output_type": "execute_result"
    }
   ],
   "source": [
    "# view documents\n",
    "vector_store.get(include=['embeddings','documents', 'metadatas'])"
   ]
  }
 ],
 "metadata": {
  "kernelspec": {
   "display_name": "venv",
   "language": "python",
   "name": "python3"
  },
  "language_info": {
   "codemirror_mode": {
    "name": "ipython",
    "version": 3
   },
   "file_extension": ".py",
   "mimetype": "text/x-python",
   "name": "python",
   "nbconvert_exporter": "python",
   "pygments_lexer": "ipython3",
   "version": "3.13.5"
  }
 },
 "nbformat": 4,
 "nbformat_minor": 5
}
