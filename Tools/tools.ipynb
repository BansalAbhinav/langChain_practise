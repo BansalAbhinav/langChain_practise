{
 "cells": [
  {
   "cell_type": "markdown",
   "id": "96c7adc1",
   "metadata": {},
   "source": [
    "Built-in Tool - DuckDuckGo Search"
   ]
  },
  {
   "cell_type": "code",
   "execution_count": 4,
   "id": "78432ee8",
   "metadata": {},
   "outputs": [
    {
     "name": "stdout",
     "output_type": "stream",
     "text": [
      "3 days ago - Of the yes/no questions, 44 percent ... and only 22 percent were answered \"no\". In 2015, a study of 26,000 articles from 13 news sites on the World Wide Web, conducted by a data scientist and published on his blog, found that the majority (54 percent) were yes/no questions, which divided into 20 percent \"yes\" answers, 17 percent \"no\" answers and 16 percent whose answers he could not determine. Phrasing headlines as questions ... 2 days ago - It is sometimes termed a news hed, a deliberate misspelling that dates from production flow during hot type days, to notify the composing room that a written note from an editor concerned a headline and should not be set in type. Headlines in English often use a set of grammatical rules known as headlinese, designed to meet stringent space requirements by, for example, leaving out forms of the verb \"to be\" and choosing short ... 3 days ago · Read short news updates in less than 60 words with inshorts. All daily news updates related to business, sports, technology, India, world and entertainment in English with inshorts Read latest news with inshorts in less than 60 words, related to business, sports, bollywood and technology in India and around the world in both english & hindi. USA TODAY delivers current national and local news , sports, entertainment, finance, technology, and more through award-winning journalism, photos, and videos.\n"
     ]
    }
   ],
   "source": [
    "from langchain_community.tools import DuckDuckGoSearchRun\n",
    "\n",
    "search_tool = DuckDuckGoSearchRun()\n",
    "\n",
    "results = search_tool.invoke('short news headlines only \\n')\n",
    "\n",
    "print(results)"
   ]
  },
  {
   "cell_type": "code",
   "execution_count": 19,
   "id": "39042ada",
   "metadata": {},
   "outputs": [
    {
     "name": "stdout",
     "output_type": "stream",
     "text": [
      "duckduckgo_search\n",
      "A wrapper around DuckDuckGo Search. Useful for when you need to answer questions about current events. Input should be a search query.\n",
      "{'query': {'description': 'search query to look up', 'title': 'Query', 'type': 'string'}}\n"
     ]
    }
   ],
   "source": [
    "print(search_tool.name)\n",
    "print(search_tool.description)\n",
    "print(search_tool.args)"
   ]
  },
  {
   "cell_type": "markdown",
   "id": "96971325",
   "metadata": {},
   "source": [
    "Built-in Tool - Shell Tool"
   ]
  },
  {
   "cell_type": "code",
   "execution_count": 10,
   "id": "deb1d2ec",
   "metadata": {},
   "outputs": [
    {
     "name": "stdout",
     "output_type": "stream",
     "text": [
      "Executing command:\n",
      "  ls\n",
      "'ls' is not recognized as an internal or external command,\n",
      "operable program or batch file.\n",
      "\n"
     ]
    },
    {
     "name": "stderr",
     "output_type": "stream",
     "text": [
      "d:\\Coding\\langchain_Models\\venv\\Lib\\site-packages\\langchain_community\\tools\\shell\\tool.py:33: UserWarning: The shell tool has no safeguards by default. Use at your own risk.\n",
      "  warnings.warn(\n"
     ]
    }
   ],
   "source": [
    "from langchain_community.tools import ShellTool\n",
    "\n",
    "shell_tool = ShellTool()\n",
    "\n",
    "results = shell_tool.invoke(' ls')\n",
    "\n",
    "print(results)"
   ]
  },
  {
   "cell_type": "code",
   "execution_count": 12,
   "id": "c6c5845e",
   "metadata": {},
   "outputs": [
    {
     "data": {
      "text/plain": [
       "\"Page: Black Clover\\nSummary: Black Clover (Japanese: ブラッククローバー, Hepburn: Burakku Kurōbā) is a Japanese manga series written and illustrated by Yūki Tabata. It started in Shueisha's shōnen manga magazine Weekly Shōnen Jump in February 2015. The series ran in the magazine until August 2023, and moved to Jump Giga in December of the same year. Its chapters have been collected in 37 tankōbon volumes as of September 2025. Set in a world where people are born with the ability to use magic, the story follows Asta, a young boy without any magic power who is given a rare grimoire that grants him anti-magic abilities. With his fellow mages from the Black Bulls, Asta plans to become the next Wizard King.\\nThe manga was first adapted into an original video animation (OVA) by Xebec Zwei, released in 2017. A 170-episode anime television series adaptation produced by Pierrot aired on TV Tokyo from October 2017 to March 2021. An anime film, titled Black Clover: Sword of the Wizard King, premiered simultaneously in Japanese theaters and internationally on Netflix in June 2023. A second season has been announced.\\nBy September 2025, the manga had over 24 million copies in circulation worldwide.\\n\\n\\n\\nPage: List of Black Clover episodes\\nSummary: Black Clover is an anime television series adapted from the manga of the same title written and illustrated by Yūki Tabata. Produced by Pierrot and directed by Tatsuya Yoshihara, the series is placed in a world where magic is a common everyday part of people's lives, and is centered around one of the only known person to not be able to use magic, Asta. Asta as well as his friend, rival, and adoptive brother Yuno, aspire to become the wizard king however to most people it would seem that Asta had no chance of becoming wizard king while Yuno was famous in his village as a prodigy. The series aired from October 3, 2017 to March 30, 2021 on TV Tokyo in Japan. Kazuyuki Fudeyasu wrote the scripts, Itsuko Takeda designed the characters, and Minako Seki composed the music. The first season, which adapts the first eight volumes of the manga, was initially listed as running for 13 episodes, but was later expanded to 51 episodes. The first two seasons each consisted of 51 episodes. The series uses twenty six different pieces of theme music: thirteen opening themes and thirteen ending themes.\\nAn original video animation produced by Xebec and based on the manga was shown at the 2016 Jump Festa between November 27 and December 18, 2016. It was bundled with the 11th volume of the manga, which was released on May 2, 2017. A second original video animation was shown at the 2018 Jump Festa.\\nIn 2017, both Crunchyroll and Funimation licensed the series for an English-language release in North America. Crunchyroll is simulcasting the series, while Funimation is producing an English dub as part of its Simuldub program as it airs. Their adaptation premiered on December 2, 2017, on Adult Swim's Toonami programming block. The first DVD and Blu-ray compilation was released by Avex Pictures on February 23, 2018, with individual volumes being released monthly. In February 2021, it was announced that the final episode of Black Clover would air on March 30, 2021, followed up by an anime film announcement for the series which released on March 31, 2023.\\nIn July 2025, at Anime Expo, it was announced that the series will receive a second season, which will be also produced by Pierrot.\\n\\n\\n\\nPage: Asta (Black Clover)\\nSummary: Asta (Japanese: アスタ, Hepburn: Asuta) is a fictional character and the main protagonist of the manga series Black Clover created by Yūki Tabata. A peasant orphan who was left at a church, he aspires to become the next Wizard King. He has no magical power, but overcame this through intense physical training which allow him to wield anti-magic swords from a five-leaf clover grimoire in which a devil resides. He then becomes a Magic Knight, joining the Black Bulls squad in hopes of achieving his dream.\\nIn the Black Clover anime \""
      ]
     },
     "execution_count": 12,
     "metadata": {},
     "output_type": "execute_result"
    }
   ],
   "source": [
    "from langchain_community.tools import WikipediaQueryRun\n",
    "from langchain_community.utilities import WikipediaAPIWrapper\n",
    "\n",
    "wikipedia = WikipediaQueryRun(api_wrapper=WikipediaAPIWrapper())\n",
    "\n",
    "wikipedia.run(\"Black Clover\")"
   ]
  },
  {
   "cell_type": "markdown",
   "id": "a0c9cdcd",
   "metadata": {},
   "source": [
    "CUSTOM TOOLS"
   ]
  },
  {
   "cell_type": "code",
   "execution_count": 14,
   "id": "adcb376d",
   "metadata": {},
   "outputs": [],
   "source": [
    "from langchain_core.tools import tool"
   ]
  },
  {
   "cell_type": "code",
   "execution_count": null,
   "id": "c114891d",
   "metadata": {},
   "outputs": [],
   "source": [
    "# Step 1 - create a function\n",
    "\n",
    "def multiply(a, b):\n",
    "    \"\"\"Multiply two numbers\"\"\"\n",
    "    return a*b"
   ]
  },
  {
   "cell_type": "code",
   "execution_count": null,
   "id": "4f97be24",
   "metadata": {},
   "outputs": [],
   "source": [
    "# Step 2 - add type hints\n",
    "\n",
    "def multiply(a: int, b:int) -> int:\n",
    "    \"\"\"Multiply two numbers\"\"\"\n",
    "    return a*b"
   ]
  },
  {
   "cell_type": "code",
   "execution_count": 15,
   "id": "a2f8d174",
   "metadata": {},
   "outputs": [],
   "source": [
    "# Step 3 - add tool decorator\n",
    "\n",
    "@tool\n",
    "def multiply(a: int, b:int) -> int:\n",
    "    \"\"\"Multiply two numbers\"\"\"\n",
    "    return a*b"
   ]
  },
  {
   "cell_type": "code",
   "execution_count": 16,
   "id": "9f0c606c",
   "metadata": {},
   "outputs": [],
   "source": [
    "result = multiply.invoke({\"a\":3, \"b\":5})"
   ]
  },
  {
   "cell_type": "code",
   "execution_count": 17,
   "id": "38dbd453",
   "metadata": {},
   "outputs": [
    {
     "name": "stdout",
     "output_type": "stream",
     "text": [
      "15\n"
     ]
    }
   ],
   "source": [
    "print(result)"
   ]
  },
  {
   "cell_type": "code",
   "execution_count": 18,
   "id": "fe5f702d",
   "metadata": {},
   "outputs": [
    {
     "name": "stdout",
     "output_type": "stream",
     "text": [
      "multiply\n",
      "Multiply two numbers\n",
      "{'a': {'title': 'A', 'type': 'integer'}, 'b': {'title': 'B', 'type': 'integer'}}\n"
     ]
    }
   ],
   "source": [
    "print(multiply.name)\n",
    "print(multiply.description)\n",
    "print(multiply.args)"
   ]
  },
  {
   "cell_type": "code",
   "execution_count": 20,
   "id": "180dd71c",
   "metadata": {},
   "outputs": [
    {
     "name": "stdout",
     "output_type": "stream",
     "text": [
      "{'description': 'Multiply two numbers', 'properties': {'a': {'title': 'A', 'type': 'integer'}, 'b': {'title': 'B', 'type': 'integer'}}, 'required': ['a', 'b'], 'title': 'multiply', 'type': 'object'}\n"
     ]
    }
   ],
   "source": [
    "print(multiply.args_schema.model_json_schema())"
   ]
  },
  {
   "cell_type": "markdown",
   "id": "8f198ffc",
   "metadata": {},
   "source": [
    "Method 2 - Using StructuredTool"
   ]
  },
  {
   "cell_type": "code",
   "execution_count": 21,
   "id": "795e687d",
   "metadata": {},
   "outputs": [],
   "source": [
    "from langchain.tools import StructuredTool\n",
    "from pydantic import BaseModel, Field"
   ]
  },
  {
   "cell_type": "code",
   "execution_count": 22,
   "id": "ac955fe7",
   "metadata": {},
   "outputs": [],
   "source": [
    "class MultiplyInput(BaseModel):\n",
    "    a: int = Field(required=True, description=\"The first number to add\")\n",
    "    b: int = Field(required=True, description=\"The second number to add\")"
   ]
  },
  {
   "cell_type": "code",
   "execution_count": 23,
   "id": "41a1c80f",
   "metadata": {},
   "outputs": [],
   "source": [
    "def multiply_func(a: int, b: int) -> int:\n",
    "    return a * b"
   ]
  },
  {
   "cell_type": "code",
   "execution_count": 24,
   "id": "eb409585",
   "metadata": {},
   "outputs": [],
   "source": [
    "multiply_tool = StructuredTool.from_function(\n",
    "    func=multiply_func,\n",
    "    name=\"multiply\",\n",
    "    description=\"Multiply two numbers\",\n",
    "    args_schema=MultiplyInput\n",
    ")"
   ]
  },
  {
   "cell_type": "code",
   "execution_count": 25,
   "id": "e433f96b",
   "metadata": {},
   "outputs": [
    {
     "name": "stdout",
     "output_type": "stream",
     "text": [
      "9\n",
      "multiply\n",
      "Multiply two numbers\n",
      "{'a': {'description': 'The first number to add', 'required': True, 'title': 'A', 'type': 'integer'}, 'b': {'description': 'The second number to add', 'required': True, 'title': 'B', 'type': 'integer'}}\n"
     ]
    }
   ],
   "source": [
    "result = multiply_tool.invoke({'a':3, 'b':3})\n",
    "\n",
    "print(result)\n",
    "print(multiply_tool.name)\n",
    "print(multiply_tool.description)\n",
    "print(multiply_tool.args)"
   ]
  },
  {
   "cell_type": "markdown",
   "id": "f1661f28",
   "metadata": {},
   "source": [
    "Method 3 - Using BaseTool Class"
   ]
  },
  {
   "cell_type": "code",
   "execution_count": 26,
   "id": "d03f8b7a",
   "metadata": {},
   "outputs": [],
   "source": [
    "from langchain.tools import BaseTool\n",
    "from typing import Type"
   ]
  },
  {
   "cell_type": "code",
   "execution_count": 27,
   "id": "188ccf2c",
   "metadata": {},
   "outputs": [],
   "source": [
    "# arg schema using pydantic\n",
    "\n",
    "class MultiplyInput(BaseModel):\n",
    "    a: int = Field(required=True, description=\"The first number to add\")\n",
    "    b: int = Field(required=True, description=\"The second number to add\")"
   ]
  },
  {
   "cell_type": "code",
   "execution_count": 28,
   "id": "3b561187",
   "metadata": {},
   "outputs": [],
   "source": [
    "class MultiplyTool(BaseTool):\n",
    "    name: str = \"multiply\"\n",
    "    description: str = \"Multiply two numbers\"\n",
    "\n",
    "    args_schema: Type[BaseModel] = MultiplyInput\n",
    "\n",
    "    def _run(self, a: int, b: int) -> int:\n",
    "        return a * b"
   ]
  },
  {
   "cell_type": "code",
   "execution_count": 29,
   "id": "71d1cea0",
   "metadata": {},
   "outputs": [],
   "source": [
    "multiply_tool = MultiplyTool()"
   ]
  },
  {
   "cell_type": "code",
   "execution_count": 30,
   "id": "81408245",
   "metadata": {},
   "outputs": [
    {
     "name": "stdout",
     "output_type": "stream",
     "text": [
      "9\n",
      "multiply\n",
      "Multiply two numbers\n",
      "{'a': {'description': 'The first number to add', 'required': True, 'title': 'A', 'type': 'integer'}, 'b': {'description': 'The second number to add', 'required': True, 'title': 'B', 'type': 'integer'}}\n"
     ]
    }
   ],
   "source": [
    "result = multiply_tool.invoke({'a':3, 'b':3})\n",
    "\n",
    "print(result)\n",
    "print(multiply_tool.name)\n",
    "print(multiply_tool.description)\n",
    "\n",
    "print(multiply_tool.args)"
   ]
  },
  {
   "cell_type": "markdown",
   "id": "11c104f5",
   "metadata": {},
   "source": [
    "ToolKit"
   ]
  },
  {
   "cell_type": "code",
   "execution_count": 31,
   "id": "d97c1800",
   "metadata": {},
   "outputs": [],
   "source": [
    "from langchain_core.tools import tool\n",
    "\n",
    "# Custom tools\n",
    "@tool\n",
    "def add(a: int, b: int) -> int:\n",
    "    \"\"\"Add two numbers\"\"\"\n",
    "    return a + b\n",
    "\n",
    "@tool\n",
    "def multiply(a: int, b: int) -> int:\n",
    "    \"\"\"Multiply two numbers\"\"\"\n",
    "    return a * b\n"
   ]
  },
  {
   "cell_type": "code",
   "execution_count": 32,
   "id": "20dbc142",
   "metadata": {},
   "outputs": [],
   "source": [
    "class MathToolkit:\n",
    "    def get_tools(self):\n",
    "        return [add, multiply]\n"
   ]
  },
  {
   "cell_type": "code",
   "execution_count": 35,
   "id": "9c079871",
   "metadata": {},
   "outputs": [
    {
     "name": "stdout",
     "output_type": "stream",
     "text": [
      "add => Add two numbers\n",
      "9\n",
      "multiply => Multiply two numbers\n",
      "20\n"
     ]
    }
   ],
   "source": [
    "toolkit = MathToolkit()\n",
    "tools = toolkit.get_tools()\n",
    "\n",
    "for tool in tools:\n",
    "    print(tool.name, \"=>\", tool.description)\n",
    "    result = tool.invoke({\"a\":4,\"b\":5})\n",
    "    print(result)"
   ]
  }
 ],
 "metadata": {
  "kernelspec": {
   "display_name": "venv",
   "language": "python",
   "name": "python3"
  },
  "language_info": {
   "codemirror_mode": {
    "name": "ipython",
    "version": 3
   },
   "file_extension": ".py",
   "mimetype": "text/x-python",
   "name": "python",
   "nbconvert_exporter": "python",
   "pygments_lexer": "ipython3",
   "version": "3.13.5"
  }
 },
 "nbformat": 4,
 "nbformat_minor": 5
}
