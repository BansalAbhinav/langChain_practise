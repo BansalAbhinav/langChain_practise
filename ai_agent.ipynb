{
 "cells": [
  {
   "cell_type": "code",
   "execution_count": null,
   "id": "2b56c51b",
   "metadata": {},
   "outputs": [
    {
     "name": "stderr",
     "output_type": "stream",
     "text": [
      "d:\\Coding\\langchain_Models\\venv\\Lib\\site-packages\\tqdm\\auto.py:21: TqdmWarning: IProgress not found. Please update jupyter and ipywidgets. See https://ipywidgets.readthedocs.io/en/stable/user_install.html\n",
      "  from .autonotebook import tqdm as notebook_tqdm\n"
     ]
    },
    {
     "data": {
      "text/plain": [
       "True"
      ]
     },
     "execution_count": 1,
     "metadata": {},
     "output_type": "execute_result"
    }
   ],
   "source": [
    "from langchain_google_genai import ChatGoogleGenerativeAI,GoogleGenerativeAI\n",
    "from langchain_core.tools import tool\n",
    "from langchain_core.messages import HumanMessage\n",
    "import requests\n",
    "from dotenv import load_dotenv\n",
    "load_dotenv()"
   ]
  },
  {
   "cell_type": "code",
   "execution_count": 2,
   "id": "1616ae12",
   "metadata": {},
   "outputs": [],
   "source": [
    "from langchain_community.tools import DuckDuckGoSearchRun\n",
    "\n",
    "search_tool = DuckDuckGoSearchRun()\n",
    "results = search_tool.invoke(\"top news today\")"
   ]
  },
  {
   "cell_type": "code",
   "execution_count": 31,
   "id": "c78aa4fe",
   "metadata": {},
   "outputs": [],
   "source": [
    "@tool\n",
    "def get_weather_data(city: str) -> str:\n",
    "  \"\"\"\n",
    "  This function fetches the current weather data for a given city\n",
    "  \"\"\"\n",
    "  url = f'https://api.weatherstack.com/current?access_key=4d1d8ae207a8c845a52df8a67bf3623e&query={city}'\n",
    "\n",
    "  response = requests.get(url)\n",
    "\n",
    "  return response.json()"
   ]
  },
  {
   "cell_type": "code",
   "execution_count": 3,
   "id": "1e3fa844",
   "metadata": {},
   "outputs": [
    {
     "data": {
      "text/plain": [
       "\"CBS News offers breaking news coverage of today ' s top headlines. Stay informed on the biggest new stories with our balanced, trustworthy reporting. Go to NBCNews.com for breaking news , videos, and the latest top stories in world news , business, politics, health and pop culture. Live news , investigations, opinion, photos and video by the journalists of The New York Times from more than 150 countries around the world. Subscribe for coverage of U.S. and international news , politics, business, technology, science, health, arts, sports and more. Breaking News , Latest News and Current News from FOXNews.com. Breaking news and video. Latest Current News : U.S., World, Entertainment, Health, Business, Technology, Politics, Sports Stay informed with top world news today . The Associated Press aims to keep you up-to-date with breaking world news stories around the globe.\""
      ]
     },
     "execution_count": 3,
     "metadata": {},
     "output_type": "execute_result"
    }
   ],
   "source": [
    "results"
   ]
  },
  {
   "cell_type": "code",
   "execution_count": 4,
   "id": "d7f9eac3",
   "metadata": {},
   "outputs": [],
   "source": [
    "model = ChatGoogleGenerativeAI(\n",
    "    model=\"gemini-1.5-flash\",\n",
    "    temperature=0.2,\n",
    "    max_output_tokens=1024,\n",
    ")"
   ]
  },
  {
   "cell_type": "code",
   "execution_count": 5,
   "id": "1916eefe",
   "metadata": {},
   "outputs": [
    {
     "name": "stdout",
     "output_type": "stream",
     "text": [
      "content='Hi there! How can I help you today?' additional_kwargs={} response_metadata={'prompt_feedback': {'block_reason': 0, 'safety_ratings': []}, 'finish_reason': 'STOP', 'safety_ratings': []} id='run--862f6674-a8c3-483f-b9be-1d23e47b7783-0' usage_metadata={'input_tokens': 1, 'output_tokens': 11, 'total_tokens': 12, 'input_token_details': {'cache_read': 0}}\n"
     ]
    }
   ],
   "source": [
    "print(model.invoke(\"hi\"))"
   ]
  },
  {
   "cell_type": "code",
   "execution_count": 6,
   "id": "67429c93",
   "metadata": {},
   "outputs": [],
   "source": [
    "from langchain.agents import create_react_agent, AgentExecutor\n",
    "from langchain import hub"
   ]
  },
  {
   "cell_type": "code",
   "execution_count": 24,
   "id": "1016476d",
   "metadata": {},
   "outputs": [],
   "source": [
    "# Step 2: Pull the ReAct prompt from LangChain Hub\n",
    "prompt = hub.pull(\"hwchase17/react\")  # pulls the standard ReAct agent prompt Reasoning + Action \n"
   ]
  },
  {
   "cell_type": "code",
   "execution_count": null,
   "id": "abae0067",
   "metadata": {},
   "outputs": [],
   "source": [
    "# Step 3: Create the ReAct agent manually with the pulled prompt\n",
    "agent = create_react_agent(\n",
    "    llm=model,\n",
    "    tools=[search_tool ,get_weather_data],\n",
    "    prompt=prompt\n",
    ")"
   ]
  },
  {
   "cell_type": "code",
   "execution_count": null,
   "id": "44e15a74",
   "metadata": {},
   "outputs": [],
   "source": [
    "# Step 4: Wrap it with AgentExecutor\n",
    "agent_executor = AgentExecutor(\n",
    "    agent=agent,\n",
    "    tools=[search_tool,get_weather_data],\n",
    "    verbose=True\n",
    ")"
   ]
  },
  {
   "cell_type": "code",
   "execution_count": 32,
   "id": "a8bb8a8a",
   "metadata": {},
   "outputs": [
    {
     "name": "stdout",
     "output_type": "stream",
     "text": [
      "\n",
      "\n",
      "\u001b[1m> Entering new AgentExecutor chain...\u001b[0m\n",
      "\u001b[32;1m\u001b[1;3mThought: I need to find the capital of Uttarakhand and the current temperature of Haridwar and the capital city (which I assume refers to the capital of Uttarakhand).  I can use duckduckgo_search to get this information.\n",
      "\n",
      "Action: duckduckgo_search\n",
      "Action Input: \"capital of uttarakhand and current temperature haridwar\"\u001b[0m\u001b[36;1m\u001b[1;3m... the sacred Ghat Har ki Pauri was constructed by King Vikramaditya (1st century BC) in memory of his brother Bharthari , who had come to Haridwar and ... But after various excavations and the study of ancient literature, it is now established that the history of Uttarakhand goes back to Stone Age. Haridwar is an amazing destination in Uttarakhand , it's one of the best destinations in Uttarakhand and a lot of travelers visit every year from all ... Haridwar is an amazing destination in Uttarakhand , it's one of the best destinations in Uttarakhand and a lot of travelers visit every year from all ... Our focus is on providing prominent coverage of news related to education, jobs/careers, and current affairs in India.\u001b[0m\u001b[32;1m\u001b[1;3mThought: The previous search didn't directly answer my question. I need to separate the queries and try again.  I'll search for the capital separately and the temperature separately.\n",
      "\n",
      "Action: duckduckgo_search\n",
      "Action Input: \"capital of uttarakhand\"\u001b[0m\u001b[36;1m\u001b[1;3m14 May 2025 — Dehradun serves as the state capital , with Nainital being the judicial capital. The state is divided into two divisions, Garhwal and Kumaon, with a total of 13 ... 5 days ago — Dehradun also known as Dehra Doon, is the winter capital and the most populous city of the Indian state of Uttarakhand. It is the administrative ... 24 Jun 2025 — Dehradun and Gairsain both serve as capitals of Uttarakhand . Dehradun functions as the winter capital, while Gairsain is the summer capital. Both are officially ... 28 Aug 2025 — District Dehradun. Government of Uttarakhand. Dehradun, Capital of Uttarakhand . India. Dehradun is the capital of the state of Uttarakhand . It is located in the Doon Valley, where it is keeps two important rivers of the North India, the Ganges and ...\u001b[0m\u001b[32;1m\u001b[1;3mThought: The observation shows Dehradun is the capital, but mentions Gairsain as the summer capital.  I still need the temperature in Haridwar.\n",
      "\n",
      "Action: duckduckgo_search\n",
      "Action Input: \"current temperature haridwar\"\u001b[0m\u001b[36;1m\u001b[1;3m请问为什么电压的英文是voltage,缩写却是u，而电流英文是current,缩写是I?通常物理量和该量的单位符号使用的字母是不同的。物理量的单位符号一般使用发明（发现）该物理量的科学家的姓氏（外国人姓名是名在前面、姓 Dec 28, 2023 · Current± Briefings: Tackling grid constraints as a developer In this edition of our Current± Briefings series we sat down with SNRG’s managing director Dan Nicholl to discuss how an end-to-end strategy that embraces smart technologies can help mitigate and overcome grid constraints. Jun 14, 2023 · To find out more, Current± spoke to Karl Bach, co-founder of Axle, on the company’s aspirations and its technology. Could you provide a bit of a background on Axle and how it fits into the UK energy space? Axle is an energy flexibility startup. We connect EVs and home energy devices to electricity markets to help kick fossil fuels out of the ... Nov 8, 2024 · After the ambitious targets set out in NESO's Clean Power 2030 report, Current± looks back at the infrastructure projects making headlines. Nov 9, 2022 · Current± Asks the Experts: SSEN Distribution’s Steve Atkins on the power of flexibility and opportunities for new suppliers November 9, 2022\u001b[0m\u001b[32;1m\u001b[1;3mThought: The previous search for the temperature in Haridwar failed to provide the current temperature.  I need to try a different search strategy or source.  I'll try a weather website directly.\n",
      "\n",
      "Action: duckduckgo_search\n",
      "Action Input: \"weather haridwar\"\u001b[0m\u001b[36;1m\u001b[1;3mBe prepared with the most accurate 10-day forecast for Haridwar, Uttarakhand with highs, lows, chance of precipitation from The Weather Channel and Weather.com Get the current weather conditions and the outlook for the next 10 days in Haridwar , Uttarakhand, India. See the temperature, wind, air quality, and precipitation for each day, as well as the sun and moon times. 2 Week Extended Forecast in Haridwar , Uttarakhand, India ... Hour-by-hour weather for Haridwar next 7 days How's the weather today in Haridwar , Uttarakhand. We provide information on: wind speed, wind direction, atmospheric pressure, temperature, humidity and visibility. 6 days ago · Live weather reports from Haridwar weather stations and weather warnings that include risk of thunder, high UV index and forecast gales. See the links below the 12-day Haridwar weather forecast table for other cities and towns nearby along with weather conditions for local outdoor activities.\u001b[0m\u001b[32;1m\u001b[1;3mThought: I now have the information I need.  The capital of Uttarakhand is Dehradun (with Gairsain as the summer capital).  The current temperature in Haridwar requires checking a weather website directly, as my previous searches didn't yield a current temperature.\n",
      "\n",
      "Final Answer: The capital of Uttarakhand is Dehradun (Gairsain is the summer capital).  To get the current temperature in Haridwar, please consult a weather website such as weather.com or a similar service.\u001b[0m\n",
      "\n",
      "\u001b[1m> Finished chain.\u001b[0m\n"
     ]
    }
   ],
   "source": [
    "# Step 5: Invoke\n",
    "response = agent_executor.invoke({\"input\": \"what is capital of uttarakhand and tell me the current temperature of haridwar and and capial city \"})\n"
   ]
  },
  {
   "cell_type": "code",
   "execution_count": 33,
   "id": "42070a18",
   "metadata": {},
   "outputs": [
    {
     "data": {
      "text/plain": [
       "'The capital of Uttarakhand is Dehradun (Gairsain is the summer capital).  To get the current temperature in Haridwar, please consult a weather website such as weather.com or a similar service.'"
      ]
     },
     "execution_count": 33,
     "metadata": {},
     "output_type": "execute_result"
    }
   ],
   "source": [
    "response['output']"
   ]
  },
  {
   "cell_type": "code",
   "execution_count": null,
   "id": "4fdac937",
   "metadata": {},
   "outputs": [],
   "source": []
  },
  {
   "cell_type": "code",
   "execution_count": null,
   "id": "af2ac734",
   "metadata": {},
   "outputs": [],
   "source": []
  },
  {
   "cell_type": "code",
   "execution_count": null,
   "id": "edff5d79",
   "metadata": {},
   "outputs": [],
   "source": []
  },
  {
   "cell_type": "code",
   "execution_count": null,
   "id": "f95e9caa",
   "metadata": {},
   "outputs": [],
   "source": []
  },
  {
   "cell_type": "code",
   "execution_count": null,
   "id": "b655137c",
   "metadata": {},
   "outputs": [],
   "source": []
  },
  {
   "cell_type": "code",
   "execution_count": null,
   "id": "4fddad5b",
   "metadata": {},
   "outputs": [],
   "source": []
  },
  {
   "cell_type": "code",
   "execution_count": null,
   "id": "b4321cf7",
   "metadata": {},
   "outputs": [],
   "source": []
  },
  {
   "cell_type": "code",
   "execution_count": null,
   "id": "9a53e9bb",
   "metadata": {},
   "outputs": [],
   "source": []
  },
  {
   "cell_type": "code",
   "execution_count": null,
   "id": "00a98bc4",
   "metadata": {},
   "outputs": [],
   "source": []
  },
  {
   "cell_type": "code",
   "execution_count": 11,
   "id": "f1a634ad",
   "metadata": {},
   "outputs": [],
   "source": [
    "model = ChatGoogleGenerativeAI(\n",
    "    model=\"gemini-1.5-flash\",\n",
    "    temperature=0.2,\n",
    "    max_output_tokens=1024,\n",
    ")"
   ]
  },
  {
   "cell_type": "code",
   "execution_count": null,
   "id": "0a067e6e",
   "metadata": {},
   "outputs": [],
   "source": []
  },
  {
   "cell_type": "code",
   "execution_count": null,
   "id": "e5452b2c",
   "metadata": {},
   "outputs": [],
   "source": []
  }
 ],
 "metadata": {
  "kernelspec": {
   "display_name": "venv",
   "language": "python",
   "name": "python3"
  },
  "language_info": {
   "codemirror_mode": {
    "name": "ipython",
    "version": 3
   },
   "file_extension": ".py",
   "mimetype": "text/x-python",
   "name": "python",
   "nbconvert_exporter": "python",
   "pygments_lexer": "ipython3",
   "version": "3.13.5"
  }
 },
 "nbformat": 4,
 "nbformat_minor": 5
}
